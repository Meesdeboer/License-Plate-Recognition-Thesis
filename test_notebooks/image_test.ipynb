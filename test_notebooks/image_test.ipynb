{
 "cells": [
  {
   "cell_type": "code",
   "execution_count": 6,
   "metadata": {},
   "outputs": [],
   "source": [
    "import os\n",
    "from PIL import Image"
   ]
  },
  {
   "cell_type": "code",
   "execution_count": 15,
   "metadata": {},
   "outputs": [
    {
     "name": "stdout",
     "output_type": "stream",
     "text": [
      "13315\n"
     ]
    }
   ],
   "source": [
    "image_path = '../../images/raw_random'\n",
    "image_files = os.listdir(image_path)\n",
    "print(len(image_files))"
   ]
  },
  {
   "cell_type": "code",
   "execution_count": 22,
   "metadata": {},
   "outputs": [],
   "source": [
    "# open first image in the folder\n",
    "image_file = image_files[910]\n",
    "image_file_path = os.path.join(image_path, image_file)\n",
    "\n",
    "# open the image\n",
    "img = Image.open(image_file_path)\n",
    "\n",
    "# resize the image to 640x640\n",
    "img = img.resize((640, 640))\n",
    "\n",
    "img.show()\n"
   ]
  },
  {
   "cell_type": "code",
   "execution_count": 39,
   "metadata": {},
   "outputs": [],
   "source": [
    "# Open the random image\n",
    "img = Image.open(image_file_path)\n",
    "\n",
    "img = img.resize((640, 640))\n",
    "\n",
    "# Open the license plate image\n",
    "lp_img = Image.open('license_plate.png')\n",
    "\n",
    "# oroiginal size of the license plate\n",
    "width, height = lp_img.size\n",
    "\n",
    "# Resize the image\n",
    "lp_img_resized = lp_img.resize((int(width / 10), int(height / 10)))  # Change the size as needed\n",
    "\n",
    "# Save the resized image\n",
    "lp_img_resized.save('license_plate_resized.png')\n",
    "\n",
    "# Place license plate on the image\n",
    "img.paste(lp_img_resized, (0, 0))\n",
    "\n",
    "img = img.resize((640, 640))\n",
    "\n",
    "# Show the image\n",
    "img.show()\n",
    "\n",
    "# Save the image\n",
    "img.save('random_with_lp.png')\n"
   ]
  }
 ],
 "metadata": {
  "kernelspec": {
   "display_name": "Python 3",
   "language": "python",
   "name": "python3"
  },
  "language_info": {
   "codemirror_mode": {
    "name": "ipython",
    "version": 3
   },
   "file_extension": ".py",
   "mimetype": "text/x-python",
   "name": "python",
   "nbconvert_exporter": "python",
   "pygments_lexer": "ipython3",
   "version": "3.8.10"
  }
 },
 "nbformat": 4,
 "nbformat_minor": 2
}
