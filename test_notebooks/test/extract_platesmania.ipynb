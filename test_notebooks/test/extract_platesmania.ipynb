{
 "cells": [
  {
   "cell_type": "code",
   "execution_count": 21,
   "metadata": {},
   "outputs": [],
   "source": [
    "# download png from link\n",
    "import requests\n",
    "import xml.etree.ElementTree as ET\n",
    "import os\n",
    "from PIL import Image"
   ]
  },
  {
   "cell_type": "code",
   "execution_count": 6,
   "metadata": {},
   "outputs": [],
   "source": [
    "response = requests.get('https://img03.platesmania.com/240604/o/24882101.jpg')\n",
    "with open('img.jpg','wb') as f:\n",
    "    f.write(response.content)"
   ]
  },
  {
   "cell_type": "code",
   "execution_count": 2,
   "metadata": {},
   "outputs": [],
   "source": [
    "with open(\"../images/exp_nl_001.xml\", \"r\") as f:\n",
    "    data = f.read()\n"
   ]
  },
  {
   "cell_type": "code",
   "execution_count": 12,
   "metadata": {},
   "outputs": [],
   "source": [
    "allowed_chars =  ['-','B', 'D', 'F', 'G', 'H', 'J', 'K', 'L', 'N', 'P', 'R', 'S', 'T', 'V', 'W', 'X', 'Z', '1', '2','3','4','5','6','7','8','9','0']"
   ]
  },
  {
   "cell_type": "code",
   "execution_count": 18,
   "metadata": {},
   "outputs": [
    {
     "name": "stdout",
     "output_type": "stream",
     "text": [
      "0\n"
     ]
    }
   ],
   "source": [
    "count = 0\n",
    "root = ET.fromstring(data)\n",
    "for plate in root.findall('plate'):\n",
    "    plate_number = plate.find('plate_number').text\n",
    "    if all(c in allowed_chars for c in plate_number):\n",
    "        if plate.find('fon_title').text == 'Single-row plate with euroband (yellow)':\n",
    "            url = plate.find('photo_url').text\n",
    "            response = requests.get(url)\n",
    "            with open(f'../../../test_images/platesmania/{plate_number}.jpg','wb') as f:\n",
    "                f.write(response.content)\n",
    "\n",
    "print(count)\n",
    "            \n",
    "\n",
    "\n"
   ]
  },
  {
   "cell_type": "code",
   "execution_count": 26,
   "metadata": {},
   "outputs": [
    {
     "name": "stdout",
     "output_type": "stream",
     "text": [
      "3619\n",
      "3247\n"
     ]
    }
   ],
   "source": [
    "dir = \"../../../test_images/platesmania\"\n",
    "print(len(os.listdir(dir)))\n",
    "for f in os.listdir(dir):\n",
    "    # print resolution of image\n",
    "    img = Image.open(f\"{dir}/{f}\")\n",
    "    size = img.size\n",
    "    if size[0] < 1000 or size[1] < 1000:\n",
    "        # delete image\n",
    "        os.remove(f\"{dir}/{f}\")\n",
    "    \n",
    "print(len(os.listdir(dir)))\n"
   ]
  }
 ],
 "metadata": {
  "kernelspec": {
   "display_name": "Python 3",
   "language": "python",
   "name": "python3"
  },
  "language_info": {
   "codemirror_mode": {
    "name": "ipython",
    "version": 3
   },
   "file_extension": ".py",
   "mimetype": "text/x-python",
   "name": "python",
   "nbconvert_exporter": "python",
   "pygments_lexer": "ipython3",
   "version": "3.11.5"
  }
 },
 "nbformat": 4,
 "nbformat_minor": 2
}
