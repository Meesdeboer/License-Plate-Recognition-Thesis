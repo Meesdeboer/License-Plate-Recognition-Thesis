{
 "cells": [
  {
   "cell_type": "code",
   "execution_count": 1,
   "metadata": {},
   "outputs": [],
   "source": [
    "import cv2\n",
    "import os"
   ]
  },
  {
   "cell_type": "code",
   "execution_count": 3,
   "metadata": {},
   "outputs": [],
   "source": [
    "def save_video_frames(video_path, output_dir):\n",
    "    if not os.path.exists(video_path):\n",
    "        print(f\"Video file {video_path} does not exist\")\n",
    "        return\n",
    "\n",
    "    if not os.path.exists(output_dir):\n",
    "        os.makedirs(output_dir, exist_ok=True)\n",
    "\n",
    "    cap = cv2.VideoCapture(video_path)\n",
    "    if not cap.isOpened():\n",
    "        print(f\"Cannot open video file {video_path}\")\n",
    "        return\n",
    "\n",
    "    frame_count = 0\n",
    "    while True:\n",
    "        ret, frame = cap.read()\n",
    "        if not ret:\n",
    "            break\n",
    "        frame_count += 1\n",
    "        frame_path = os.path.join(output_dir, f\"{frame_count}+{video_path[-12:]}.jpg\")\n",
    "        cv2.imwrite(frame_path, frame)\n",
    "\n",
    "    cap.release()\n",
    "    print(f\"Saved {frame_count} frames to {output_dir}\")\n"
   ]
  },
  {
   "cell_type": "code",
   "execution_count": 26,
   "metadata": {},
   "outputs": [
    {
     "name": "stdout",
     "output_type": "stream",
     "text": [
      "Saved 36 frames to ../../../test_images/AEB/photos/96-BRH-5\n"
     ]
    }
   ],
   "source": [
    "save_video_frames(\"../../../test_images/AEB/videos/IMG_2210.MOV\", \"../../../test_images/AEB/photos/96-BRH-5\")"
   ]
  },
  {
   "cell_type": "code",
   "execution_count": 4,
   "metadata": {},
   "outputs": [
    {
     "name": "stdout",
     "output_type": "stream",
     "text": [
      "Saved 94 frames to ../../../test_images/normal_cars_frames/PN-788-F\n",
      "Saved 103 frames to ../../../test_images/normal_cars_frames/S-206-FN\n",
      "Saved 77 frames to ../../../test_images/normal_cars_frames/SZ-888-J\n",
      "Saved 78 frames to ../../../test_images/normal_cars_frames/J-426-VG\n",
      "Saved 68 frames to ../../../test_images/normal_cars_frames/G-797-ZX\n",
      "Saved 108 frames to ../../../test_images/normal_cars_frames/Z-579-LP\n",
      "Saved 85 frames to ../../../test_images/normal_cars_frames/NB-592-B\n",
      "Saved 66 frames to ../../../test_images/normal_cars_frames/H-258-FT\n",
      "Saved 92 frames to ../../../test_images/normal_cars_frames/S-493-XX\n",
      "Saved 104 frames to ../../../test_images/normal_cars_frames/2-ZLH-37\n",
      "Saved 100 frames to ../../../test_images/normal_cars_frames/S-554-HF\n",
      "Saved 233 frames to ../../../test_images/normal_cars_frames/GD-101-F\n",
      "Saved 51 frames to ../../../test_images/normal_cars_frames/K-290-TB\n",
      "Saved 97 frames to ../../../test_images/normal_cars_frames/G-606-FR\n",
      "Saved 84 frames to ../../../test_images/normal_cars_frames/K-150-ZB\n",
      "Saved 76 frames to ../../../test_images/normal_cars_frames/13-RNR-4\n",
      "Saved 81 frames to ../../../test_images/normal_cars_frames/20-PD-NT\n",
      "Saved 90 frames to ../../../test_images/normal_cars_frames/98-GXK-8\n",
      "Saved 72 frames to ../../../test_images/normal_cars_frames/NB-971-B\n",
      "Saved 104 frames to ../../../test_images/normal_cars_frames/71-SVL-5\n",
      "Saved 74 frames to ../../../test_images/normal_cars_frames/06-LBX-9\n",
      "Saved 74 frames to ../../../test_images/normal_cars_frames/JK-401-L\n"
     ]
    }
   ],
   "source": [
    "path = \"../../../test_images/normal_cars\"\n",
    "for video in os.listdir(path):\n",
    "    name = video.split(\".\")[0]\n",
    "    # create folder for each video\n",
    "    path_to_save = \"../../../test_images/normal_cars_frames/\"\n",
    "    if not os.path.exists(path_to_save + name):\n",
    "        os.makedirs(path_to_save + name, exist_ok=True)\n",
    "\n",
    "    save_video_frames(path + \"/\" + video, path_to_save + name)\n",
    "\n",
    "    \n",
    "\n",
    "\n",
    "\n",
    "    "
   ]
  }
 ],
 "metadata": {
  "kernelspec": {
   "display_name": "Python 3",
   "language": "python",
   "name": "python3"
  },
  "language_info": {
   "codemirror_mode": {
    "name": "ipython",
    "version": 3
   },
   "file_extension": ".py",
   "mimetype": "text/x-python",
   "name": "python",
   "nbconvert_exporter": "python",
   "pygments_lexer": "ipython3",
   "version": "3.11.5"
  }
 },
 "nbformat": 4,
 "nbformat_minor": 2
}
