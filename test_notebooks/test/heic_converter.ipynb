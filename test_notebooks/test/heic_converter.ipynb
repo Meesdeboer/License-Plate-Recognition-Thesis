{
 "cells": [
  {
   "cell_type": "code",
   "execution_count": 2,
   "metadata": {},
   "outputs": [],
   "source": [
    "from PIL import Image\n",
    "from pillow_heif import register_heif_opener\n",
    "import os\n",
    "\n",
    "register_heif_opener()"
   ]
  },
  {
   "cell_type": "code",
   "execution_count": 11,
   "metadata": {},
   "outputs": [
    {
     "name": "stdout",
     "output_type": "stream",
     "text": [
      "56\n"
     ]
    }
   ],
   "source": [
    "dir = \"../../../test_images/normal_cars\"\n",
    "print(len(os.listdir(dir)))"
   ]
  },
  {
   "cell_type": "code",
   "execution_count": 8,
   "metadata": {},
   "outputs": [
    {
     "name": "stdout",
     "output_type": "stream",
     "text": [
      "IMG_2251.HEIC\n",
      "done\n",
      "IMG_2257.HEIC\n",
      "done\n",
      "IMG_2179.HEIC\n",
      "done\n",
      "IMG_2221.HEIC\n",
      "done\n",
      "IMG_2213.HEIC\n",
      "done\n",
      "IMG_2254.HEIC\n",
      "done\n",
      "IMG_2225.HEIC\n",
      "done\n",
      "IMG_2212.HEIC\n",
      "done\n",
      "IMG_2219.HEIC\n",
      "done\n",
      "IMG_2252.HEIC\n",
      "done\n",
      "IMG_2218.HEIC\n",
      "done\n",
      "IMG_2244.HEIC\n",
      "done\n",
      "IMG_2223.HEIC\n",
      "done\n",
      "IMG_2180.HEIC\n",
      "done\n",
      "IMG_2176.HEIC\n",
      "done\n",
      "IMG_2253.HEIC\n",
      "done\n",
      "IMG_2220.HEIC\n",
      "done\n",
      "IMG_2178.HEIC\n",
      "done\n",
      "IMG_2183.HEIC\n",
      "done\n",
      "IMG_2226.HEIC\n",
      "done\n",
      "IMG_2182.HEIC\n",
      "done\n",
      "IMG_2222.HEIC\n",
      "done\n",
      "IMG_2258.HEIC\n",
      "done\n",
      "IMG_2227.HEIC\n",
      "done\n",
      "IMG_2177.HEIC\n",
      "done\n",
      "IMG_2215.HEIC\n",
      "done\n",
      "IMG_2228.HEIC\n",
      "done\n",
      "IMG_2256.HEIC\n",
      "done\n",
      "IMG_2224.HEIC\n",
      "done\n",
      "IMG_2243.HEIC\n",
      "done\n",
      "IMG_2250.HEIC\n",
      "done\n",
      "IMG_2242.HEIC\n",
      "done\n",
      "IMG_2229.HEIC\n",
      "done\n",
      "IMG_2245.HEIC\n",
      "done\n",
      "IMG_2216.HEIC\n",
      "done\n",
      "IMG_2230.HEIC\n",
      "done\n",
      "IMG_2241.HEIC\n",
      "done\n",
      "IMG_2255.HEIC\n",
      "done\n",
      "39\n"
     ]
    }
   ],
   "source": [
    "for file in os.listdir(dir):\n",
    "    if file.endswith(\".HEIC\"):\n",
    "        print(file)\n",
    "        im = Image.open(dir + \"/\" + file)\n",
    "        im.save(dir + \"/\" + file.replace(\".HEIC\", \".jpg\"), \"JPEG\")\n",
    "        os.remove(dir + \"/\" + file)\n",
    "        print(\"done\")\n",
    "print(len(os.listdir(dir)))\n"
   ]
  }
 ],
 "metadata": {
  "kernelspec": {
   "display_name": "Python 3",
   "language": "python",
   "name": "python3"
  },
  "language_info": {
   "codemirror_mode": {
    "name": "ipython",
    "version": 3
   },
   "file_extension": ".py",
   "mimetype": "text/x-python",
   "name": "python",
   "nbconvert_exporter": "python",
   "pygments_lexer": "ipython3",
   "version": "3.11.5"
  }
 },
 "nbformat": 4,
 "nbformat_minor": 2
}
