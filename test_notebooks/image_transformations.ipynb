{
 "cells": [
  {
   "cell_type": "code",
   "execution_count": 1,
   "metadata": {},
   "outputs": [],
   "source": [
    "import os\n",
    "from PIL import Image\n",
    "from PIL import Image, ImageDraw, ImageFont\n",
    "import random\n",
    "import numpy as np\n",
    "import cv2"
   ]
  },
  {
   "cell_type": "code",
   "execution_count": 2,
   "metadata": {},
   "outputs": [],
   "source": [
    "image_path = '../../images/raw_random'\n",
    "image_files = os.listdir(image_path)\n",
    "img = Image.open(os.path.join(image_path, image_files[0]))\n",
    "img = img.resize((640, 640))\n",
    "img.show()"
   ]
  },
  {
   "cell_type": "code",
   "execution_count": 3,
   "metadata": {},
   "outputs": [],
   "source": [
    "def get_Rx(theta):\n",
    "    return np.array([[1, 0, 0],\n",
    "                     [0, np.cos(theta), -np.sin(theta)],\n",
    "                     [0, np.sin(theta), np.cos(theta)]])\n",
    "\n",
    "def get_Ry(theta):\n",
    "    return np.array([[np.cos(theta), 0, np.sin(theta)],\n",
    "                     [0, 1, 0],\n",
    "                     [-np.sin(theta), 0, np.cos(theta)]])\n",
    "\n",
    "def get_Rz(theta):\n",
    "    return np.array([[np.cos(theta), -np.sin(theta), 0],\n",
    "                     [np.sin(theta), np.cos(theta), 0],\n",
    "                     [0, 0, 1]])\n",
    "\n",
    "def rotate_2d_point_in_3d(point, theta_x, theta_y, theta_z):\n",
    "    point = np.array([point[0], point[1], 0])\n",
    "    point = np.dot(get_Rx(theta_x), point)\n",
    "    point = np.dot(get_Ry(theta_y), point)\n",
    "    point = np.dot(get_Rz(theta_z), point)\n",
    "    return point[:2]\n",
    "\n",
    "def translate_points_to_image(points, image_size):\n",
    "    point1, point2, point3, point4 = points\n",
    "\n",
    "    min_x = min(point1[0], point2[0], point3[0], point4[0])\n",
    "    min_y = min(point1[1], point2[1], point3[1], point4[1])\n",
    "    max_x = max(point1[0], point2[0], point3[0], point4[0])\n",
    "    max_y = max(point1[1], point2[1], point3[1], point4[1])\n",
    "\n",
    "    dx = max(0, -min_x, max_x - image_size[0])\n",
    "    dy = max(0, -min_y, max_y - image_size[1])\n",
    "\n",
    "    translated_points = [(point[0] + 1.1 * dx, point[1] + 1.1 * dy) for point in points]\n",
    "\n",
    "    return translated_points"
   ]
  },
  {
   "cell_type": "code",
   "execution_count": 4,
   "metadata": {},
   "outputs": [
    {
     "name": "stdout",
     "output_type": "stream",
     "text": [
      "[417.1177546  133.37600383] [718.17736073  83.42280771] [728.45484793 148.57093348] [427.39524179 198.5241296 ]\n",
      "(514.4180873191532, 133.376003828004) (815.4776934496841, 83.42280770836503) (825.7551806435864, 148.5709334837613) (524.6955745130554, 198.5241296034003)\n"
     ]
    }
   ],
   "source": [
    "image_path = '../../images/raw_random'\n",
    "image_files = os.listdir(image_path)\n",
    "img = Image.open(os.path.join(image_path, image_files[1]))\n",
    "img = img.resize((640, 640))\n",
    "\n",
    "# randomly pick a box of dimension 52x11 in the image\n",
    "size = 6\n",
    "dimensions = (52 * size, 11 * size)\n",
    "x = 400\n",
    "y = 200\n",
    "\n",
    "point1 = (x, y)\n",
    "point2 = (x + dimensions[0], y)\n",
    "point3 = (x + dimensions[0], y + dimensions[1])\n",
    "point4 = (x, y + dimensions[1])\n",
    "\n",
    "theta_x = np.deg2rad(random.uniform(-60, 60))\n",
    "theta_y = np.deg2rad(random.uniform(-60, 60))\n",
    "theta_z = np.deg2rad(random.uniform(-10, 10))\n",
    "\n",
    "point1 = rotate_2d_point_in_3d(point1, theta_x, theta_y, theta_z)\n",
    "point2 = rotate_2d_point_in_3d(point2, theta_x, theta_y, theta_z)\n",
    "point3 = rotate_2d_point_in_3d(point3, theta_x, theta_y, theta_z)\n",
    "point4 = rotate_2d_point_in_3d(point4, theta_x, theta_y, theta_z)\n",
    "\n",
    "\n",
    "print(point1, point2, point3, point4)\n",
    "\n",
    "point1, point2, point3, point4 = translate_points_to_image([point1, point2, point3, point4], img.size)\n",
    "\n",
    "print(point1, point2, point3, point4)\n",
    "draw = ImageDraw.Draw(img)\n",
    "draw.polygon([point1, point2, point3, point4], outline='red', width=3)\n",
    "\n",
    "\n",
    "\n",
    "lp_img = 'license_plate.png'\n",
    "lp_img = Image.open(lp_img)\n",
    "# lp_img = lp_img.resize((640, 640))\n",
    "\n",
    "box_points_lp = [(0, 0), (lp_img.width, 0), (lp_img.width, lp_img.height), (0, lp_img.height)]\n",
    "\n",
    "matrix = cv2.getPerspectiveTransform(np.float32(box_points_lp), np.float32([point1, point2, point3, point4]))\n",
    "\n",
    "transformed_lp_img = cv2.warpPerspective(np.array(lp_img), matrix, (640, 640))\n",
    "\n",
    "transformed_lp_img = Image.fromarray(transformed_lp_img)\n",
    "\n",
    "img.paste(transformed_lp_img, (0, 0), transformed_lp_img)\n",
    "img.save('output.png')"
   ]
  },
  {
   "cell_type": "code",
   "execution_count": 5,
   "metadata": {},
   "outputs": [],
   "source": [
    "img = Image.open('output.png')\n",
    "bounding_box = [(338.9159057409015, 132.80063567552827) ,(442.44545728802836, 142.6815241199347), (473.2059924349345, 167.71728808822513) ,(369.67644088780764, 157.83639964381868)]\n",
    "\n",
    "size = 10\n",
    "target_points = [(0, 0), (52, 0), (52, 11), (0, 11)]\n",
    "\n",
    "matrix = cv2.getPerspectiveTransform(np.float32(bounding_box), np.float32(target_points))\n",
    "\n",
    "transformed_lp_img = cv2.warpPerspective(np.array(img), matrix, (52, 11))\n",
    "\n",
    "transformed_lp_img = Image.fromarray(transformed_lp_img)\n",
    "\n",
    "transformed_lp_img = transformed_lp_img.resize((52 * size, 11 * size))\n",
    "\n",
    "# # binarize the image\n",
    "# transformed_lp_img = transformed_lp_img.convert('L')\n",
    "# transformed_lp_img = transformed_lp_img.point(lambda x: 0 if x < 128 else 255, '1')\n",
    "\n",
    "\n",
    "\n",
    "transformed_lp_img.show()\n",
    "\n"
   ]
  },
  {
   "cell_type": "code",
   "execution_count": 6,
   "metadata": {},
   "outputs": [
    {
     "ename": "FileNotFoundError",
     "evalue": "[Errno 2] No such file or directory: 'test.jpg'",
     "output_type": "error",
     "traceback": [
      "\u001b[0;31m---------------------------------------------------------------------------\u001b[0m",
      "\u001b[0;31mFileNotFoundError\u001b[0m                         Traceback (most recent call last)",
      "Cell \u001b[0;32mIn[6], line 1\u001b[0m\n\u001b[0;32m----> 1\u001b[0m img \u001b[38;5;241m=\u001b[39m Image\u001b[38;5;241m.\u001b[39mopen(\u001b[38;5;124m'\u001b[39m\u001b[38;5;124mtest.jpg\u001b[39m\u001b[38;5;124m'\u001b[39m)\n\u001b[1;32m      2\u001b[0m img \u001b[38;5;241m=\u001b[39m img\u001b[38;5;241m.\u001b[39mresize((\u001b[38;5;241m640\u001b[39m, \u001b[38;5;241m640\u001b[39m))\n\u001b[1;32m      4\u001b[0m box \u001b[38;5;241m=\u001b[39m [(\u001b[38;5;241m360\u001b[39m, \u001b[38;5;241m280\u001b[39m), (\u001b[38;5;241m600\u001b[39m, \u001b[38;5;241m285\u001b[39m), (\u001b[38;5;241m600\u001b[39m, \u001b[38;5;241m370\u001b[39m), (\u001b[38;5;241m350\u001b[39m, \u001b[38;5;241m370\u001b[39m)]\n",
      "File \u001b[0;32m~/anaconda3/lib/python3.11/site-packages/PIL/Image.py:3227\u001b[0m, in \u001b[0;36mopen\u001b[0;34m(fp, mode, formats)\u001b[0m\n\u001b[1;32m   3224\u001b[0m     filename \u001b[38;5;241m=\u001b[39m fp\n\u001b[1;32m   3226\u001b[0m \u001b[38;5;28;01mif\u001b[39;00m filename:\n\u001b[0;32m-> 3227\u001b[0m     fp \u001b[38;5;241m=\u001b[39m builtins\u001b[38;5;241m.\u001b[39mopen(filename, \u001b[38;5;124m\"\u001b[39m\u001b[38;5;124mrb\u001b[39m\u001b[38;5;124m\"\u001b[39m)\n\u001b[1;32m   3228\u001b[0m     exclusive_fp \u001b[38;5;241m=\u001b[39m \u001b[38;5;28;01mTrue\u001b[39;00m\n\u001b[1;32m   3230\u001b[0m \u001b[38;5;28;01mtry\u001b[39;00m:\n",
      "\u001b[0;31mFileNotFoundError\u001b[0m: [Errno 2] No such file or directory: 'test.jpg'"
     ]
    }
   ],
   "source": [
    "img = Image.open('test.jpg')\n",
    "img = img.resize((640, 640))\n",
    "\n",
    "box = [(360, 280), (600, 285), (600, 370), (350, 370)]\n",
    "\n",
    "draw = ImageDraw.Draw(img)\n",
    "draw.polygon(box, outline='red', width=3)\n",
    "\n",
    "# img.show()\n",
    "\n",
    "target_points = [(0, 0), (52, 0), (52, 11), (0, 11)]\n",
    "\n",
    "matrix = cv2.getPerspectiveTransform(np.float32(box), np.float32(target_points))\n",
    "\n",
    "transformed_lp_img = cv2.warpPerspective(np.array(img), matrix, (52, 11))\n",
    "\n",
    "transformed_lp_img = Image.fromarray(transformed_lp_img)\n",
    "\n",
    "transformed_lp_img = transformed_lp_img.resize((52 * size, 11 * size))\n",
    "\n",
    "transformed_lp_img.show()\n"
   ]
  }
 ],
 "metadata": {
  "kernelspec": {
   "display_name": "Python 3",
   "language": "python",
   "name": "python3"
  },
  "language_info": {
   "codemirror_mode": {
    "name": "ipython",
    "version": 3
   },
   "file_extension": ".py",
   "mimetype": "text/x-python",
   "name": "python",
   "nbconvert_exporter": "python",
   "pygments_lexer": "ipython3",
   "version": "3.11.5"
  }
 },
 "nbformat": 4,
 "nbformat_minor": 2
}
