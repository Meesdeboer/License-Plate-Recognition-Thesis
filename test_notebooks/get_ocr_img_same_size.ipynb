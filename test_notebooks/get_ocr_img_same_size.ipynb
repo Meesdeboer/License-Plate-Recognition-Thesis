{
 "cells": [
  {
   "cell_type": "code",
   "execution_count": 7,
   "metadata": {},
   "outputs": [],
   "source": [
    "from PIL import Image"
   ]
  },
  {
   "cell_type": "code",
   "execution_count": 24,
   "metadata": {},
   "outputs": [
    {
     "data": {
      "image/png": "[encoded data removed]",
      "text/plain": [
       "<PIL.PngImagePlugin.PngImageFile image mode=L size=8x32>"
      ]
     },
     "execution_count": 24,
     "metadata": {},
     "output_type": "execute_result"
    }
   ],
   "source": [
    "img = \"../train_ocr/1-76.png\"\n",
    "img = Image.open(img)\n",
    "img"
   ]
  },
  {
   "cell_type": "code",
   "execution_count": 25,
   "metadata": {},
   "outputs": [
    {
     "data": {
      "image/png": "[encoded data removed]",
      "text/plain": [
       "<PIL.Image.Image image mode=RGB size=30x40>"
      ]
     },
     "execution_count": 25,
     "metadata": {},
     "output_type": "execute_result"
    }
   ],
   "source": [
    "# create blank black image of size 40x40\n",
    "new_img = Image.new(\"RGB\", (30, 40), \"black\")\n",
    "new_img"
   ]
  },
  {
   "cell_type": "code",
   "execution_count": 26,
   "metadata": {},
   "outputs": [
    {
     "data": {
      "image/png": "[encoded data removed]",
      "text/plain": [
       "<PIL.Image.Image image mode=RGB size=30x40>"
      ]
     },
     "execution_count": 26,
     "metadata": {},
     "output_type": "execute_result"
    }
   ],
   "source": [
    "#paste the original image on the blank image in middle\n",
    "width, height = img.size\n",
    "x = 30//2 - width//2\n",
    "y = 40//2 - height//2\n",
    "\n",
    "new_img.paste(img, (x, y))\n",
    "new_img"
   ]
  },
  {
   "cell_type": "code",
   "execution_count": 33,
   "metadata": {},
   "outputs": [
    {
     "name": "stdout",
     "output_type": "stream",
     "text": [
      "1108\n"
     ]
    }
   ],
   "source": [
    "# Do the same for all images in the folder\n",
    "folder = \"../train_ocr/\"\n",
    "import os\n",
    "\n",
    "# get all the images in the folder\n",
    "images = os.listdir(folder)\n",
    "print(len(images))\n",
    "\n",
    "for img in images:\n",
    "    img_path = os.path.join(folder, img)\n",
    "    img_obj = Image.open(img_path)\n",
    "    new_img = Image.new(\"RGB\", (30, 40), \"black\")\n",
    "    width, height = img_obj.size\n",
    "    x = 30//2 - width//2\n",
    "    y = 40//2 - height//2\n",
    "    new_img.paste(img_obj, (x, y))\n",
    "    \n",
    "    # Remove the file extension from the original filename\n",
    "    img_name, _ = os.path.splitext(img)\n",
    "    \n",
    "    # Save the new image with the same name as the original\n",
    "    new_img.save(f\"../train_ocr_same_size/{img_name}.png\")"
   ]
  }
 ],
 "metadata": {
  "kernelspec": {
   "display_name": "Python 3",
   "language": "python",
   "name": "python3"
  },
  "language_info": {
   "codemirror_mode": {
    "name": "ipython",
    "version": 3
   },
   "file_extension": ".py",
   "mimetype": "text/x-python",
   "name": "python",
   "nbconvert_exporter": "python",
   "pygments_lexer": "ipython3",
   "version": "3.11.5"
  }
 },
 "nbformat": 4,
 "nbformat_minor": 2
}
