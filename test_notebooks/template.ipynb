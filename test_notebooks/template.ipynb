{
 "cells": [
  {
   "cell_type": "code",
   "execution_count": 12,
   "metadata": {},
   "outputs": [],
   "source": [
    "from PIL import Image, ImageDraw, ImageFont\n",
    "import random\n",
    "import numpy"
   ]
  },
  {
   "cell_type": "code",
   "execution_count": 20,
   "metadata": {},
   "outputs": [],
   "source": [
    "# Pad naar de kentekenplaat-template en lettertype\n",
    "template_path = '../lp_template_files/template_dutch_lp.png'\n",
    "font_path = '../lp_template_files/font_dutch_lp.ttf'"
   ]
  },
  {
   "cell_type": "code",
   "execution_count": 30,
   "metadata": {},
   "outputs": [
    {
     "name": "stdout",
     "output_type": "stream",
     "text": [
      "1386\n",
      "303\n"
     ]
    },
    {
     "name": "stderr",
     "output_type": "stream",
     "text": [
      "/tmp/ipykernel_6585/1829213314.py:16: DeprecationWarning: textsize is deprecated and will be removed in Pillow 10 (2023-07-01). Use textbbox or textlength instead.\n",
      "  text_width, text_height = draw.textsize(license_plate, font)\n"
     ]
    }
   ],
   "source": [
    "def create_syntethic_lp(output_path):\n",
    "    # Open de template en het lettertype\n",
    "    template = Image.open(template_path)\n",
    "    font = ImageFont.truetype(font_path, 200)\n",
    "\n",
    "    print(template.width)\n",
    "    print(template.height)\n",
    "\n",
    "    # Maak een ImageDraw object aan om tekst op de template te kunnen tekenen\n",
    "    draw = ImageDraw.Draw(template)\n",
    "\n",
    "    # Genereer een random kentekenplaat\n",
    "    license_plate = '1-UVR-123'\n",
    "\n",
    "    # Bereken de breedte en hoogte van de tekst\n",
    "    text_width, text_height = draw.textsize(license_plate, font)\n",
    "\n",
    "    # Bereken de x en y positie waar de tekst moet worden getekend\n",
    "    x = (template.width - text_width) / 2 + 40\n",
    "    y = (template.height - text_height) / 2 - 10\n",
    "\n",
    "    # Teken de tekst op de template\n",
    "    draw.text((x, y), license_plate, font=font, fill=(0, 0, 0))\n",
    "\n",
    "    # Sla de kentekenplaat op\n",
    "    template.save(output_path)\n",
    "\n",
    "\n",
    "create_syntethic_lp('output.png')"
   ]
  }
 ],
 "metadata": {
  "kernelspec": {
   "display_name": "Python 3",
   "language": "python",
   "name": "python3"
  },
  "language_info": {
   "codemirror_mode": {
    "name": "ipython",
    "version": 3
   },
   "file_extension": ".py",
   "mimetype": "text/x-python",
   "name": "python",
   "nbconvert_exporter": "python",
   "pygments_lexer": "ipython3",
   "version": "3.8.10"
  }
 },
 "nbformat": 4,
 "nbformat_minor": 2
}
