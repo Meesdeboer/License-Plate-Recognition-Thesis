{
 "cells": [
  {
   "cell_type": "code",
   "execution_count": 12,
   "metadata": {},
   "outputs": [],
   "source": [
    "from PIL import Image, ImageDraw, ImageFont\n",
    "import random\n",
    "import numpy"
   ]
  },
  {
   "cell_type": "code",
   "execution_count": 132,
   "metadata": {},
   "outputs": [],
   "source": [
    "from PIL import Image, ImageDraw, ImageFont\n",
    "import random"
   ]
  },
  {
   "cell_type": "code",
   "execution_count": 138,
   "metadata": {},
   "outputs": [
    {
     "name": "stdout",
     "output_type": "stream",
     "text": [
      "38-WF-YX\n"
     ]
    }
   ],
   "source": [
    "def generate_lp_number():\n",
    "    # Set up the allowed characters\n",
    "    allowed_letters = 'ABCDEFGHIJKLMNOPQRSTUVWXYZ'\n",
    "    allowed_numbers = '0123456789'\n",
    "\n",
    "    # Define the cases\n",
    "    cases = [\n",
    "        # Case 1: 99-XX-XX\n",
    "        random.choice(allowed_numbers) + random.choice(allowed_numbers) + '-' + random.choice(allowed_letters) + random.choice(allowed_letters) + '-' + random.choice(allowed_letters) + random.choice(allowed_letters),\n",
    "\n",
    "        # Case 2: 99-XXX-9\n",
    "        random.choice(allowed_numbers) + random.choice(allowed_numbers) + '-' + random.choice(allowed_letters) + random.choice(allowed_letters) + random.choice(allowed_letters) + '-' + random.choice(allowed_numbers),\n",
    "\n",
    "        # Case 3: 9-XXX-99\n",
    "        random.choice(allowed_numbers) + '-' + random.choice(allowed_letters) + random.choice(allowed_letters) + random.choice(allowed_letters) + '-' + random.choice(allowed_numbers) + random.choice(allowed_numbers),\n",
    "\n",
    "        # Case 4: XX-999-X\n",
    "        random.choice(allowed_letters) + random.choice(allowed_letters) + '-' + random.choice(allowed_numbers) + random.choice(allowed_numbers) + random.choice(allowed_numbers) + '-' + random.choice(allowed_letters),\n",
    "\n",
    "        # Case 5: X-999-XX\n",
    "        random.choice(allowed_letters) + '-' + random.choice(allowed_numbers) + random.choice(allowed_numbers) + random.choice(allowed_numbers) + '-' + random.choice(allowed_letters) + random.choice(allowed_letters)\n",
    "    ]\n",
    "\n",
    "    # Return a random case\n",
    "    return random.choice(cases)\n",
    "\n",
    "print(generate_lp_number())"
   ]
  },
  {
   "cell_type": "code",
   "execution_count": 150,
   "metadata": {},
   "outputs": [],
   "source": [
    "def generate_image(output_path):\n",
    "    # Load the font\n",
    "    font = ImageFont.truetype('../lp_template_files/font_dutch_lp.ttf', 220)\n",
    "    lp_image = Image.open('../lp_template_files/template_dutch_lp.png')\n",
    "\n",
    "    # Create a drawing context\n",
    "    draw = ImageDraw.Draw(lp_image)\n",
    "\n",
    "    # Generate a random license plate number\n",
    "    license_plate = '35-BMT-5'\n",
    "\n",
    "\n",
    "    # Calculate the width and height of the text\n",
    "    text_bbox = draw.textbbox((0, 0), license_plate, font)\n",
    "    text_width = text_bbox[2] - text_bbox[0]\n",
    "    text_height = text_bbox[3] - text_bbox[1]\n",
    "\n",
    "    # Calculate the position of the text\n",
    "    text_x = (lp_image.width - text_width) / 2 + 60\n",
    "    text_y = (lp_image.height - text_height) / 2 - 45\n",
    "\n",
    "    # Draw the text on the image\n",
    "    draw.text((text_x, text_y), license_plate, fill='black', font=font)\n",
    "\n",
    "    # Save the image\n",
    "    lp_image.save(output_path)\n",
    "\n",
    "generate_image('license_plate.png')"
   ]
  }
 ],
 "metadata": {
  "kernelspec": {
   "display_name": "Python 3",
   "language": "python",
   "name": "python3"
  },
  "language_info": {
   "codemirror_mode": {
    "name": "ipython",
    "version": 3
   },
   "file_extension": ".py",
   "mimetype": "text/x-python",
   "name": "python",
   "nbconvert_exporter": "python",
   "pygments_lexer": "ipython3",
   "version": "3.8.10"
  }
 },
 "nbformat": 4,
 "nbformat_minor": 2
}
