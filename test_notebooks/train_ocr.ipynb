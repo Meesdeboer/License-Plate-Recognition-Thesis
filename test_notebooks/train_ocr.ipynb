{
 "cells": [
  {
   "cell_type": "code",
   "execution_count": 11,
   "metadata": {},
   "outputs": [],
   "source": [
    "import os\n",
    "import matplotlib.pyplot as plt\n",
    "import numpy as np\n",
    "from PIL import Image\n",
    "import tensorflow as tf\n",
    "from tensorflow import keras\n",
    "import numpy as np\n",
    "import matplotlib.pyplot as plt\n",
    "from tensorflow.keras.preprocessing.image import load_img, img_to_array\n",
    "import cv2\n",
    "np.random.seed(42)                      \n",
    "from keras.models import Sequential             \n",
    "from keras.layers import Dense, Activation, Flatten, Conv2D, MaxPooling2D, Dropout\n",
    "from keras.optimizers import Adam, SGD"
   ]
  },
  {
   "cell_type": "code",
   "execution_count": 28,
   "metadata": {},
   "outputs": [],
   "source": [
    "PATH_TO_DATA = '../../images/train_ocr/'\n",
    "images = os.listdir(PATH_TO_DATA)"
   ]
  },
  {
   "cell_type": "code",
   "execution_count": 29,
   "metadata": {},
   "outputs": [
    {
     "data": {
      "text/plain": [
       "<matplotlib.image.AxesImage at 0x7f0b502c1090>"
      ]
     },
     "execution_count": 29,
     "metadata": {},
     "output_type": "execute_result"
    },
    {
     "data": {
      "image/png": "[encoded data removed]",
      "text/plain": [
       "<Figure size 640x480 with 1 Axes>"
      ]
     },
     "metadata": {},
     "output_type": "display_data"
    }
   ],
   "source": [
    "# Load images and labels into numpy arrays\n",
    "X = []\n",
    "y = []\n",
    "\n",
    "for image in images:\n",
    "    img = Image.open(PATH_TO_DATA + image)\n",
    "    # convert to black and white\n",
    "    img = img.convert('L')\n",
    "    img = np.array(img) / 255\n",
    "    # array to int\n",
    "    img = img.astype(int)\n",
    "    X.append(img)\n",
    "    y.append(image[0])\n",
    "\n",
    "X = np.array(X)\n",
    "y = np.array(y)\n",
    "\n",
    "X.shape, y.shape\n",
    "plt.imshow(X[30], cmap='gray')"
   ]
  },
  {
   "cell_type": "code",
   "execution_count": 30,
   "metadata": {},
   "outputs": [
    {
     "data": {
      "text/plain": [
       "((10002, 33, 23), (10002, 1))"
      ]
     },
     "execution_count": 30,
     "metadata": {},
     "output_type": "execute_result"
    }
   ],
   "source": [
    "# Convert arrays to vectors\n",
    "# X = X.reshape(X.shape[0], -1)\n",
    "y = y.reshape(y.shape[0], -1)\n",
    "\n",
    "X.shape, y.shape"
   ]
  },
  {
   "cell_type": "code",
   "execution_count": 31,
   "metadata": {},
   "outputs": [
    {
     "data": {
      "text/plain": [
       "(10002, 27)"
      ]
     },
     "execution_count": 31,
     "metadata": {},
     "output_type": "execute_result"
    }
   ],
   "source": [
    "# Convert labels to one-hot encoding\n",
    "from sklearn.preprocessing import LabelBinarizer\n",
    "\n",
    "lb = LabelBinarizer()\n",
    "y = lb.fit_transform(y)\n",
    "\n",
    "y.shape"
   ]
  },
  {
   "cell_type": "code",
   "execution_count": 32,
   "metadata": {},
   "outputs": [],
   "source": [
    "import pickle\n",
    "# Save the label encoder lb\n",
    "with open('label_encoder.pkl', 'wb') as f:\n",
    "    pickle.dump(lb, f)"
   ]
  },
  {
   "cell_type": "code",
   "execution_count": 33,
   "metadata": {},
   "outputs": [
    {
     "data": {
      "text/plain": [
       "(27, 33)"
      ]
     },
     "execution_count": 33,
     "metadata": {},
     "output_type": "execute_result"
    }
   ],
   "source": [
    "num_classes = y.shape[1]\n",
    "num_pixels = X.shape[1]\n",
    "\n",
    "num_classes, num_pixels"
   ]
  },
  {
   "cell_type": "code",
   "execution_count": 34,
   "metadata": {},
   "outputs": [
    {
     "name": "stdout",
     "output_type": "stream",
     "text": [
      "Model: \"sequential_2\"\n",
      "_________________________________________________________________\n",
      " Layer (type)                Output Shape              Param #   \n",
      "=================================================================\n",
      " conv2d_5 (Conv2D)           (None, 31, 21, 32)        320       \n",
      "                                                                 \n",
      " max_pooling2d_3 (MaxPoolin  (None, 15, 10, 32)        0         \n",
      " g2D)                                                            \n",
      "                                                                 \n",
      " conv2d_6 (Conv2D)           (None, 13, 8, 64)         18496     \n",
      "                                                                 \n",
      " max_pooling2d_4 (MaxPoolin  (None, 6, 4, 64)          0         \n",
      " g2D)                                                            \n",
      "                                                                 \n",
      " conv2d_7 (Conv2D)           (None, 4, 2, 32)          18464     \n",
      "                                                                 \n",
      " flatten_2 (Flatten)         (None, 256)               0         \n",
      "                                                                 \n",
      " dense_2 (Dense)             (None, 27)                6939      \n",
      "                                                                 \n",
      "=================================================================\n",
      "Total params: 44219 (172.73 KB)\n",
      "Trainable params: 44219 (172.73 KB)\n",
      "Non-trainable params: 0 (0.00 Byte)\n",
      "_________________________________________________________________\n"
     ]
    }
   ],
   "source": [
    "def baseline_model():\n",
    "    # create model\n",
    "    model = Sequential()\n",
    "    # Convolutional layer with rectified linear unit activation\n",
    "    model.add(Conv2D(32, kernel_size=(3, 3), activation='relu', input_shape=(33, 23, 1)))\n",
    "    # Max pooling layer\n",
    "    model.add(MaxPooling2D(pool_size=(2, 2)))\n",
    "\n",
    "    model.add(Conv2D(64, kernel_size=(3, 3), activation='relu'))\n",
    "\n",
    "    model.add(MaxPooling2D(pool_size=(2, 2)))\n",
    "\n",
    "    model.add(Conv2D(32, kernel_size=(3, 3), activation='relu'))\n",
    "\n",
    "    # Softmax layer\n",
    "    model.add(Flatten())\n",
    "    model.add(Dense(num_classes, activation='softmax'))\n",
    "    \n",
    "\n",
    "    \n",
    "    return model\n",
    "\n",
    "# build the model\n",
    "model = baseline_model()\n",
    "model.summary()"
   ]
  },
  {
   "cell_type": "code",
   "execution_count": 35,
   "metadata": {},
   "outputs": [
    {
     "name": "stderr",
     "output_type": "stream",
     "text": [
      "WARNING:absl:`lr` is deprecated in Keras optimizer, please use `learning_rate` or use the legacy optimizer, e.g.,tf.keras.optimizers.legacy.SGD.\n"
     ]
    }
   ],
   "source": [
    "opt = SGD(lr = 0.001)\n",
    "model.compile(loss='categorical_crossentropy', optimizer= opt, metrics=['accuracy'])"
   ]
  },
  {
   "cell_type": "code",
   "execution_count": 36,
   "metadata": {},
   "outputs": [
    {
     "name": "stdout",
     "output_type": "stream",
     "text": [
      "Epoch 1/50\n"
     ]
    },
    {
     "name": "stderr",
     "output_type": "stream",
     "text": [
      "2024-05-06 13:43:21.585012: W tensorflow/tsl/framework/cpu_allocator_impl.cc:83] Allocation of 60732144 exceeds 10% of free system memory.\n"
     ]
    },
    {
     "name": "stdout",
     "output_type": "stream",
     "text": [
      "313/313 [==============================] - 8s 21ms/step - loss: 2.4065 - accuracy: 0.3701\n",
      "Epoch 2/50\n",
      "313/313 [==============================] - 6s 21ms/step - loss: 0.1449 - accuracy: 0.9587\n",
      "Epoch 3/50\n",
      "313/313 [==============================] - 7s 21ms/step - loss: 0.0412 - accuracy: 0.9920\n",
      "Epoch 4/50\n",
      "313/313 [==============================] - 7s 21ms/step - loss: 0.0167 - accuracy: 0.9989\n",
      "Epoch 5/50\n",
      "313/313 [==============================] - 6s 21ms/step - loss: 0.0095 - accuracy: 1.0000\n",
      "Epoch 6/50\n",
      "313/313 [==============================] - 7s 21ms/step - loss: 0.0063 - accuracy: 1.0000\n",
      "Epoch 7/50\n",
      "313/313 [==============================] - 7s 21ms/step - loss: 0.0045 - accuracy: 1.0000\n",
      "Epoch 8/50\n",
      "313/313 [==============================] - 7s 21ms/step - loss: 0.0035 - accuracy: 1.0000\n",
      "Epoch 9/50\n",
      "313/313 [==============================] - 7s 21ms/step - loss: 0.0028 - accuracy: 1.0000\n",
      "Epoch 10/50\n",
      "313/313 [==============================] - 7s 21ms/step - loss: 0.0023 - accuracy: 1.0000\n",
      "Epoch 11/50\n",
      "313/313 [==============================] - 7s 21ms/step - loss: 0.0020 - accuracy: 1.0000\n",
      "Epoch 12/50\n",
      "313/313 [==============================] - 7s 21ms/step - loss: 0.0017 - accuracy: 1.0000\n",
      "Epoch 13/50\n",
      "313/313 [==============================] - 7s 21ms/step - loss: 0.0015 - accuracy: 1.0000\n",
      "Epoch 14/50\n",
      "313/313 [==============================] - 7s 21ms/step - loss: 0.0013 - accuracy: 1.0000\n",
      "Epoch 15/50\n",
      "313/313 [==============================] - 7s 21ms/step - loss: 0.0012 - accuracy: 1.0000\n",
      "Epoch 16/50\n",
      "313/313 [==============================] - 7s 21ms/step - loss: 0.0011 - accuracy: 1.0000\n",
      "Epoch 17/50\n",
      "313/313 [==============================] - 7s 21ms/step - loss: 9.8057e-04 - accuracy: 1.0000\n",
      "Epoch 18/50\n",
      "313/313 [==============================] - 7s 21ms/step - loss: 9.0033e-04 - accuracy: 1.0000\n",
      "Epoch 19/50\n",
      "313/313 [==============================] - 7s 21ms/step - loss: 8.3249e-04 - accuracy: 1.0000\n",
      "Epoch 20/50\n",
      "313/313 [==============================] - 7s 22ms/step - loss: 7.6515e-04 - accuracy: 1.0000\n",
      "Epoch 21/50\n",
      "313/313 [==============================] - 7s 22ms/step - loss: 7.1407e-04 - accuracy: 1.0000\n",
      "Epoch 22/50\n",
      "313/313 [==============================] - 7s 21ms/step - loss: 6.6768e-04 - accuracy: 1.0000\n",
      "Epoch 23/50\n",
      "313/313 [==============================] - 7s 22ms/step - loss: 6.2739e-04 - accuracy: 1.0000\n",
      "Epoch 24/50\n",
      "313/313 [==============================] - 7s 22ms/step - loss: 5.9102e-04 - accuracy: 1.0000\n",
      "Epoch 25/50\n",
      "313/313 [==============================] - 7s 22ms/step - loss: 5.5493e-04 - accuracy: 1.0000\n",
      "Epoch 26/50\n",
      "313/313 [==============================] - 7s 22ms/step - loss: 5.2440e-04 - accuracy: 1.0000\n",
      "Epoch 27/50\n",
      "313/313 [==============================] - 7s 22ms/step - loss: 4.9560e-04 - accuracy: 1.0000\n",
      "Epoch 28/50\n",
      "313/313 [==============================] - 7s 22ms/step - loss: 4.7388e-04 - accuracy: 1.0000\n",
      "Epoch 29/50\n",
      "313/313 [==============================] - 7s 21ms/step - loss: 4.5026e-04 - accuracy: 1.0000\n",
      "Epoch 30/50\n",
      "313/313 [==============================] - 7s 21ms/step - loss: 4.2846e-04 - accuracy: 1.0000\n",
      "Epoch 31/50\n",
      "313/313 [==============================] - 7s 23ms/step - loss: 4.0930e-04 - accuracy: 1.0000\n",
      "Epoch 32/50\n",
      "313/313 [==============================] - 7s 23ms/step - loss: 3.9247e-04 - accuracy: 1.0000\n",
      "Epoch 33/50\n",
      "313/313 [==============================] - 7s 22ms/step - loss: 3.7420e-04 - accuracy: 1.0000\n",
      "Epoch 34/50\n",
      "313/313 [==============================] - 7s 23ms/step - loss: 3.5927e-04 - accuracy: 1.0000\n",
      "Epoch 35/50\n",
      "313/313 [==============================] - 7s 23ms/step - loss: 3.4598e-04 - accuracy: 1.0000\n",
      "Epoch 36/50\n",
      "313/313 [==============================] - 7s 23ms/step - loss: 3.3222e-04 - accuracy: 1.0000\n",
      "Epoch 37/50\n",
      "313/313 [==============================] - 7s 23ms/step - loss: 3.2092e-04 - accuracy: 1.0000\n",
      "Epoch 38/50\n",
      "313/313 [==============================] - 7s 24ms/step - loss: 3.0786e-04 - accuracy: 1.0000\n",
      "Epoch 39/50\n",
      "313/313 [==============================] - 7s 23ms/step - loss: 2.9715e-04 - accuracy: 1.0000\n",
      "Epoch 40/50\n",
      "313/313 [==============================] - 7s 22ms/step - loss: 2.8795e-04 - accuracy: 1.0000\n",
      "Epoch 41/50\n",
      "313/313 [==============================] - 7s 23ms/step - loss: 2.7722e-04 - accuracy: 1.0000\n",
      "Epoch 42/50\n",
      "313/313 [==============================] - 7s 23ms/step - loss: 2.6989e-04 - accuracy: 1.0000\n",
      "Epoch 43/50\n",
      "313/313 [==============================] - 7s 21ms/step - loss: 2.6086e-04 - accuracy: 1.0000\n",
      "Epoch 44/50\n",
      "313/313 [==============================] - 7s 21ms/step - loss: 2.5337e-04 - accuracy: 1.0000\n",
      "Epoch 45/50\n",
      "313/313 [==============================] - 6s 21ms/step - loss: 2.4629e-04 - accuracy: 1.0000\n",
      "Epoch 46/50\n",
      "313/313 [==============================] - 7s 21ms/step - loss: 2.3885e-04 - accuracy: 1.0000\n",
      "Epoch 47/50\n",
      "313/313 [==============================] - 7s 21ms/step - loss: 2.3223e-04 - accuracy: 1.0000\n",
      "Epoch 48/50\n",
      "313/313 [==============================] - 7s 21ms/step - loss: 2.2590e-04 - accuracy: 1.0000\n",
      "Epoch 49/50\n",
      "313/313 [==============================] - 7s 21ms/step - loss: 2.1965e-04 - accuracy: 1.0000\n",
      "Epoch 50/50\n",
      "313/313 [==============================] - 7s 21ms/step - loss: 2.1318e-04 - accuracy: 1.0000\n"
     ]
    },
    {
     "data": {
      "text/plain": [
       "<keras.src.callbacks.History at 0x7f0b524b0210>"
      ]
     },
     "execution_count": 36,
     "metadata": {},
     "output_type": "execute_result"
    }
   ],
   "source": [
    "model.fit(X, y, epochs=50, batch_size=32, verbose=1)"
   ]
  },
  {
   "cell_type": "code",
   "execution_count": 37,
   "metadata": {},
   "outputs": [
    {
     "name": "stderr",
     "output_type": "stream",
     "text": [
      "/home/mees/anaconda3/lib/python3.11/site-packages/keras/src/engine/training.py:3079: UserWarning: You are saving your model as an HDF5 file via `model.save()`. This file format is considered legacy. We recommend using instead the native Keras format, e.g. `model.save('my_model.keras')`.\n",
      "  saving_api.save_model(\n"
     ]
    }
   ],
   "source": [
    "model.save('ocr_model.h5')"
   ]
  }
 ],
 "metadata": {
  "kernelspec": {
   "display_name": "Python 3",
   "language": "python",
   "name": "python3"
  },
  "language_info": {
   "codemirror_mode": {
    "name": "ipython",
    "version": 3
   },
   "file_extension": ".py",
   "mimetype": "text/x-python",
   "name": "python",
   "nbconvert_exporter": "python",
   "pygments_lexer": "ipython3",
   "version": "3.11.5"
  }
 },
 "nbformat": 4,
 "nbformat_minor": 2
}
