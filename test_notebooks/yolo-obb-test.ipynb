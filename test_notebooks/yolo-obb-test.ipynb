{
 "cells": [
  {
   "cell_type": "code",
   "execution_count": 2,
   "metadata": {},
   "outputs": [
    {
     "name": "stderr",
     "output_type": "stream",
     "text": [
      "/home/mees/.local/lib/python3.8/site-packages/requests/__init__.py:109: RequestsDependencyWarning: urllib3 (2.2.1) or chardet (4.0.0)/charset_normalizer (3.0.1) doesn't match a supported version!\n",
      "  warnings.warn(\n"
     ]
    }
   ],
   "source": [
    "import os\n",
    "from PIL import Image\n",
    "from ultralytics import YOLO\n",
    "from PIL import Image, ImageDraw, ImageFont\n",
    "import random\n",
    "import numpy as np"
   ]
  },
  {
   "cell_type": "code",
   "execution_count": 3,
   "metadata": {},
   "outputs": [],
   "source": [
    "def generate_lp_number():\n",
    "    # Set up the allowed characters\n",
    "    allowed_letters = 'BCDFGHJKLMNOPRSTVWXYZ'\n",
    "    allowed_numbers = '0123456789'\n",
    "\n",
    "    # Define the cases\n",
    "    cases = [\n",
    "        # Case 1: 99-XX-XX\n",
    "        random.choice(allowed_numbers) + random.choice(allowed_numbers) + '-' + random.choice(allowed_letters) + random.choice(allowed_letters) + '-' + random.choice(allowed_letters) + random.choice(allowed_letters),\n",
    "\n",
    "        # Case 2: 99-XXX-9\n",
    "        random.choice(allowed_numbers) + random.choice(allowed_numbers) + '-' + random.choice(allowed_letters) + random.choice(allowed_letters) + random.choice(allowed_letters) + '-' + random.choice(allowed_numbers),\n",
    "\n",
    "        # Case 3: 9-XXX-99\n",
    "        random.choice(allowed_numbers) + '-' + random.choice(allowed_letters) + random.choice(allowed_letters) + random.choice(allowed_letters) + '-' + random.choice(allowed_numbers) + random.choice(allowed_numbers),\n",
    "\n",
    "        # Case 4: XX-999-X\n",
    "        random.choice(allowed_letters) + random.choice(allowed_letters) + '-' + random.choice(allowed_numbers) + random.choice(allowed_numbers) + random.choice(allowed_numbers) + '-' + random.choice(allowed_letters),\n",
    "\n",
    "        # Case 5: X-999-XX\n",
    "        random.choice(allowed_letters) + '-' + random.choice(allowed_numbers) + random.choice(allowed_numbers) + random.choice(allowed_numbers) + '-' + random.choice(allowed_letters) + random.choice(allowed_letters)\n",
    "    ]\n",
    "\n",
    "    # Return a random case\n",
    "    return random.choice(cases)"
   ]
  },
  {
   "cell_type": "code",
   "execution_count": 4,
   "metadata": {},
   "outputs": [],
   "source": [
    "def generate_lp_image():\n",
    "    # Load the font\n",
    "    font = ImageFont.truetype('../lp_template_files/font_dutch_lp.ttf', 220)\n",
    "    lp_image = Image.open('../lp_template_files/template_dutch_lp.png')\n",
    "\n",
    "    # Create a drawing context\n",
    "    draw = ImageDraw.Draw(lp_image)\n",
    "\n",
    "    # Generate a random license plate number\n",
    "    license_plate = generate_lp_number()\n",
    "\n",
    "    # Calculate the width and height of the text\n",
    "    text_bbox = draw.textbbox((0, 0), license_plate, font)\n",
    "    text_width = text_bbox[2] - text_bbox[0]\n",
    "    text_height = text_bbox[3] - text_bbox[1]\n",
    "\n",
    "    # Calculate the position of the text\n",
    "    text_x = (lp_image.width - text_width) / 2 + 60\n",
    "    text_y = (lp_image.height - text_height) / 2 - 45\n",
    "\n",
    "    # Draw the text on the image\n",
    "    draw.text((text_x, text_y), license_plate, fill='black', font=font)\n",
    "\n",
    "    return lp_image\n"
   ]
  },
  {
   "cell_type": "code",
   "execution_count": 5,
   "metadata": {},
   "outputs": [],
   "source": [
    "def rotate_image(image, angle):\n",
    "    return image.rotate(angle, expand=True)"
   ]
  },
  {
   "cell_type": "code",
   "execution_count": 6,
   "metadata": {},
   "outputs": [],
   "source": [
    "def transform_pixel_coordinates(pixel_coordinates, angle, image, rotated_image):\n",
    "    x, y = pixel_coordinates\n",
    "\n",
    "    center = (image.width / 2, image.height / 2)\n",
    "    transformed_center = (rotated_image.width / 2, rotated_image.height / 2)\n",
    "\n",
    "    angle_radians = -np.deg2rad(angle)\n",
    "\n",
    "    x -= center[0]\n",
    "    y -= center[1]\n",
    "\n",
    "    x_transformed = x * np.cos(angle_radians) - y * np.sin(angle_radians)\n",
    "    y_transformed = x * np.sin(angle_radians) + y * np.cos(angle_radians)\n",
    "\n",
    "    x_transformed += transformed_center[0]\n",
    "    y_transformed += transformed_center[1]\n",
    "\n",
    "    return int(x_transformed), int(y_transformed)"
   ]
  },
  {
   "cell_type": "code",
   "execution_count": 7,
   "metadata": {},
   "outputs": [],
   "source": [
    "def rotate_image_and_transform_coordinates(image, angle, pixel_coordinates):\n",
    "    rotated_image = rotate_image(image, angle)\n",
    "    transformed_pixel_coordinates = transform_pixel_coordinates(\n",
    "        pixel_coordinates, angle, image, rotated_image\n",
    "    )\n",
    "    return rotated_image, transformed_pixel_coordinates"
   ]
  },
  {
   "cell_type": "code",
   "execution_count": 88,
   "metadata": {},
   "outputs": [
    {
     "ename": "OSError",
     "evalue": "image file is truncated (89 bytes not processed)",
     "output_type": "error",
     "traceback": [
      "\u001b[0;31m---------------------------------------------------------------------------\u001b[0m",
      "\u001b[0;31mOSError\u001b[0m                                   Traceback (most recent call last)",
      "Cell \u001b[0;32mIn[88], line 59\u001b[0m\n\u001b[1;32m     56\u001b[0m         \u001b[38;5;28;01mwith\u001b[39;00m \u001b[38;5;28mopen\u001b[39m(\u001b[38;5;124mf\u001b[39m\u001b[38;5;124m'\u001b[39m\u001b[38;5;124m../../images/first_test/labels/train/\u001b[39m\u001b[38;5;132;01m{\u001b[39;00mi\u001b[38;5;132;01m}\u001b[39;00m\u001b[38;5;124m.txt\u001b[39m\u001b[38;5;124m'\u001b[39m, \u001b[38;5;124m'\u001b[39m\u001b[38;5;124mw\u001b[39m\u001b[38;5;124m'\u001b[39m) \u001b[38;5;28;01mas\u001b[39;00m f:\n\u001b[1;32m     57\u001b[0m             f\u001b[38;5;241m.\u001b[39mwrite(\u001b[38;5;124mf\u001b[39m\u001b[38;5;124m'\u001b[39m\u001b[38;5;124m0 \u001b[39m\u001b[38;5;132;01m{\u001b[39;00mtop_left_coordinate[\u001b[38;5;241m0\u001b[39m]\u001b[38;5;241m/\u001b[39msize\u001b[38;5;132;01m}\u001b[39;00m\u001b[38;5;124m \u001b[39m\u001b[38;5;132;01m{\u001b[39;00mtop_left_coordinate[\u001b[38;5;241m1\u001b[39m]\u001b[38;5;241m/\u001b[39msize\u001b[38;5;132;01m}\u001b[39;00m\u001b[38;5;124m \u001b[39m\u001b[38;5;132;01m{\u001b[39;00mtop_right_coordinate[\u001b[38;5;241m0\u001b[39m]\u001b[38;5;241m/\u001b[39msize\u001b[38;5;132;01m}\u001b[39;00m\u001b[38;5;124m \u001b[39m\u001b[38;5;132;01m{\u001b[39;00mtop_right_coordinate[\u001b[38;5;241m1\u001b[39m]\u001b[38;5;241m/\u001b[39msize\u001b[38;5;132;01m}\u001b[39;00m\u001b[38;5;124m \u001b[39m\u001b[38;5;132;01m{\u001b[39;00mbottom_right_coordinate[\u001b[38;5;241m0\u001b[39m]\u001b[38;5;241m/\u001b[39msize\u001b[38;5;132;01m}\u001b[39;00m\u001b[38;5;124m \u001b[39m\u001b[38;5;132;01m{\u001b[39;00mbottom_right_coordinate[\u001b[38;5;241m1\u001b[39m]\u001b[38;5;241m/\u001b[39msize\u001b[38;5;132;01m}\u001b[39;00m\u001b[38;5;124m \u001b[39m\u001b[38;5;132;01m{\u001b[39;00mbottom_left_coordinate[\u001b[38;5;241m0\u001b[39m]\u001b[38;5;241m/\u001b[39msize\u001b[38;5;132;01m}\u001b[39;00m\u001b[38;5;124m \u001b[39m\u001b[38;5;132;01m{\u001b[39;00mbottom_left_coordinate[\u001b[38;5;241m1\u001b[39m]\u001b[38;5;241m/\u001b[39msize\u001b[38;5;132;01m}\u001b[39;00m\u001b[38;5;124m'\u001b[39m)\n\u001b[0;32m---> 59\u001b[0m \u001b[43mcreate_dataset\u001b[49m\u001b[43m(\u001b[49m\u001b[38;5;124;43m'\u001b[39;49m\u001b[38;5;124;43m../../images/raw_random\u001b[39;49m\u001b[38;5;124;43m'\u001b[39;49m\u001b[43m,\u001b[49m\u001b[43m \u001b[49m\u001b[38;5;241;43m1000\u001b[39;49m\u001b[43m,\u001b[49m\u001b[43m \u001b[49m\u001b[38;5;241;43m640\u001b[39;49m\u001b[43m)\u001b[49m\n",
      "Cell \u001b[0;32mIn[88], line 9\u001b[0m, in \u001b[0;36mcreate_dataset\u001b[0;34m(raw_image_path, amount, size)\u001b[0m\n\u001b[1;32m      5\u001b[0m \u001b[38;5;28;01mfor\u001b[39;00m i \u001b[38;5;129;01min\u001b[39;00m \u001b[38;5;28mrange\u001b[39m(amount):\n\u001b[1;32m      6\u001b[0m \n\u001b[1;32m      7\u001b[0m     \u001b[38;5;66;03m# load random image and resize\u001b[39;00m\n\u001b[1;32m      8\u001b[0m     img \u001b[38;5;241m=\u001b[39m Image\u001b[38;5;241m.\u001b[39mopen(os\u001b[38;5;241m.\u001b[39mpath\u001b[38;5;241m.\u001b[39mjoin(raw_image_path, image_files[i]))\n\u001b[0;32m----> 9\u001b[0m     img \u001b[38;5;241m=\u001b[39m \u001b[43mimg\u001b[49m\u001b[38;5;241;43m.\u001b[39;49m\u001b[43mresize\u001b[49m\u001b[43m(\u001b[49m\u001b[43m(\u001b[49m\u001b[43msize\u001b[49m\u001b[43m,\u001b[49m\u001b[43m \u001b[49m\u001b[43msize\u001b[49m\u001b[43m)\u001b[49m\u001b[43m)\u001b[49m\n\u001b[1;32m     11\u001b[0m     \u001b[38;5;66;03m# generate lp image\u001b[39;00m\n\u001b[1;32m     12\u001b[0m     lp_img \u001b[38;5;241m=\u001b[39m generate_lp_image()\n",
      "File \u001b[0;32m~/.local/lib/python3.8/site-packages/PIL/Image.py:2157\u001b[0m, in \u001b[0;36mImage.resize\u001b[0;34m(self, size, resample, box, reducing_gap)\u001b[0m\n\u001b[1;32m   2153\u001b[0m     \u001b[38;5;28;01mraise\u001b[39;00m \u001b[38;5;167;01mValueError\u001b[39;00m(msg)\n\u001b[1;32m   2155\u001b[0m size \u001b[38;5;241m=\u001b[39m \u001b[38;5;28mtuple\u001b[39m(size)\n\u001b[0;32m-> 2157\u001b[0m \u001b[38;5;28;43mself\u001b[39;49m\u001b[38;5;241;43m.\u001b[39;49m\u001b[43mload\u001b[49m\u001b[43m(\u001b[49m\u001b[43m)\u001b[49m\n\u001b[1;32m   2158\u001b[0m \u001b[38;5;28;01mif\u001b[39;00m box \u001b[38;5;129;01mis\u001b[39;00m \u001b[38;5;28;01mNone\u001b[39;00m:\n\u001b[1;32m   2159\u001b[0m     box \u001b[38;5;241m=\u001b[39m (\u001b[38;5;241m0\u001b[39m, \u001b[38;5;241m0\u001b[39m) \u001b[38;5;241m+\u001b[39m \u001b[38;5;28mself\u001b[39m\u001b[38;5;241m.\u001b[39msize\n",
      "File \u001b[0;32m~/.local/lib/python3.8/site-packages/PIL/ImageFile.py:266\u001b[0m, in \u001b[0;36mImageFile.load\u001b[0;34m(self)\u001b[0m\n\u001b[1;32m    261\u001b[0m     \u001b[38;5;28;01melse\u001b[39;00m:\n\u001b[1;32m    262\u001b[0m         msg \u001b[38;5;241m=\u001b[39m (\n\u001b[1;32m    263\u001b[0m             \u001b[38;5;124m\"\u001b[39m\u001b[38;5;124mimage file is truncated \u001b[39m\u001b[38;5;124m\"\u001b[39m\n\u001b[1;32m    264\u001b[0m             \u001b[38;5;124mf\u001b[39m\u001b[38;5;124m\"\u001b[39m\u001b[38;5;124m(\u001b[39m\u001b[38;5;132;01m{\u001b[39;00m\u001b[38;5;28mlen\u001b[39m(b)\u001b[38;5;132;01m}\u001b[39;00m\u001b[38;5;124m bytes not processed)\u001b[39m\u001b[38;5;124m\"\u001b[39m\n\u001b[1;32m    265\u001b[0m         )\n\u001b[0;32m--> 266\u001b[0m         \u001b[38;5;28;01mraise\u001b[39;00m \u001b[38;5;167;01mOSError\u001b[39;00m(msg)\n\u001b[1;32m    268\u001b[0m b \u001b[38;5;241m=\u001b[39m b \u001b[38;5;241m+\u001b[39m s\n\u001b[1;32m    269\u001b[0m n, err_code \u001b[38;5;241m=\u001b[39m decoder\u001b[38;5;241m.\u001b[39mdecode(b)\n",
      "\u001b[0;31mOSError\u001b[0m: image file is truncated (89 bytes not processed)"
     ]
    }
   ],
   "source": [
    "def create_dataset(raw_image_path, amount, size):\n",
    "\n",
    "    image_files = os.listdir(raw_image_path)\n",
    "\n",
    "    for i in range(amount):\n",
    "\n",
    "        # load random image and resize\n",
    "        img = Image.open(os.path.join(raw_image_path, image_files[i]))\n",
    "        img = img.resize((size, size))\n",
    "\n",
    "        # generate lp image\n",
    "        lp_img = generate_lp_image()\n",
    "\n",
    "        width_before_rot, height_before_rot = lp_img.size\n",
    "\n",
    "        # rotate lp with random angle\n",
    "        angle = np.random.uniform(-30,30)\n",
    "        rotated_lp_img, top_left_coordinate = rotate_image_and_transform_coordinates(lp_img, angle, (0,0))\n",
    "        _, top_right_coordinate = rotate_image_and_transform_coordinates(lp_img, angle, (width_before_rot, 0))\n",
    "        _, bottom_left_coordinate = rotate_image_and_transform_coordinates(lp_img, angle, (0, height_before_rot))\n",
    "        _, bottom_right_coordinate = rotate_image_and_transform_coordinates(lp_img, angle, (width_before_rot, height_before_rot))\n",
    "    \n",
    "        width, height = rotated_lp_img.size\n",
    "        # resize lp image\n",
    "        resize_param = np.random.uniform(5, 30)\n",
    "\n",
    "        # resize the width and height before rotation\n",
    "        width_before_rot, height_before_rot = width_before_rot/resize_param, height_before_rot/resize_param\n",
    "\n",
    "\n",
    "        rotated_lp_img = rotated_lp_img.resize((int(width/resize_param), int(height/resize_param)))\n",
    "\n",
    "        # paste coordinates\n",
    "        x, y = np.random.randint(0, size - rotated_lp_img.width), np.random.randint(0, size - rotated_lp_img.height)\n",
    "\n",
    "        # resize the coordinates before rotation\n",
    "        top_left_coordinate = (top_left_coordinate[0]/resize_param, top_left_coordinate[1]/resize_param)\n",
    "        top_left_coordinate = (top_left_coordinate[0] + x, top_left_coordinate[1] + y)\n",
    "\n",
    "        top_right_coordinate = (top_right_coordinate[0]/resize_param, top_right_coordinate[1]/resize_param)\n",
    "        top_right_coordinate = (top_right_coordinate[0] + x, top_right_coordinate[1] + y)\n",
    "\n",
    "        bottom_left_coordinate = (bottom_left_coordinate[0]/resize_param, bottom_left_coordinate[1]/resize_param)\n",
    "        bottom_left_coordinate = (bottom_left_coordinate[0] + x, bottom_left_coordinate[1] + y)\n",
    "\n",
    "        bottom_right_coordinate = (bottom_right_coordinate[0]/resize_param, bottom_right_coordinate[1]/resize_param)\n",
    "        bottom_right_coordinate = (bottom_right_coordinate[0] + x, bottom_right_coordinate[1] + y)\n",
    "\n",
    "        # paste rotated lp ontop of random image\n",
    "        img.paste(rotated_lp_img, (x,y), rotated_lp_img)\n",
    "\n",
    "        # save image\n",
    "        img.save(f'../../images/first_test/images/train/{i}.png')\n",
    "\n",
    "        # save labels\n",
    "        with open(f'../../images/first_test/labels/train/{i}.txt', 'w') as f:\n",
    "            f.write(f'0 {top_left_coordinate[0]/size} {top_left_coordinate[1]/size} {top_right_coordinate[0]/size} {top_right_coordinate[1]/size} {bottom_right_coordinate[0]/size} {bottom_right_coordinate[1]/size} {bottom_left_coordinate[0]/size} {bottom_left_coordinate[1]/size}')\n",
    "\n",
    "create_dataset('../../images/raw_random', 1000, 640)\n"
   ]
  }
 ],
 "metadata": {
  "kernelspec": {
   "display_name": "Python 3",
   "language": "python",
   "name": "python3"
  },
  "language_info": {
   "codemirror_mode": {
    "name": "ipython",
    "version": 3
   },
   "file_extension": ".py",
   "mimetype": "text/x-python",
   "name": "python",
   "nbconvert_exporter": "python",
   "pygments_lexer": "ipython3",
   "version": "3.8.10"
  }
 },
 "nbformat": 4,
 "nbformat_minor": 2
}
