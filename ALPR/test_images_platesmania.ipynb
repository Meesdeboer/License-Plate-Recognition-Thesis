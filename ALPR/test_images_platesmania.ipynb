{
 "cells": [
  {
   "cell_type": "code",
   "execution_count": 1,
   "metadata": {},
   "outputs": [
    {
     "name": "stderr",
     "output_type": "stream",
     "text": [
      "2024-06-09 19:45:02.020572: E tensorflow/compiler/xla/stream_executor/cuda/cuda_dnn.cc:9342] Unable to register cuDNN factory: Attempting to register factory for plugin cuDNN when one has already been registered\n",
      "2024-06-09 19:45:02.020642: E tensorflow/compiler/xla/stream_executor/cuda/cuda_fft.cc:609] Unable to register cuFFT factory: Attempting to register factory for plugin cuFFT when one has already been registered\n",
      "2024-06-09 19:45:02.021808: E tensorflow/compiler/xla/stream_executor/cuda/cuda_blas.cc:1518] Unable to register cuBLAS factory: Attempting to register factory for plugin cuBLAS when one has already been registered\n",
      "Neither CUDA nor MPS are available - defaulting to CPU. Note: This module is much faster with a GPU.\n"
     ]
    }
   ],
   "source": [
    "from ALPR import alpr\n",
    "from match_license_plate import match_license_plate_to_database\n",
    "from PIL import Image\n",
    "import os\n",
    "import numpy as np"
   ]
  },
  {
   "cell_type": "code",
   "execution_count": 2,
   "metadata": {},
   "outputs": [
    {
     "name": "stdout",
     "output_type": "stream",
     "text": [
      "3245\n"
     ]
    }
   ],
   "source": [
    "dir = \"../../test_images/platesmania\"\n",
    "print(len(os.listdir(dir)))"
   ]
  },
  {
   "cell_type": "code",
   "execution_count": 3,
   "metadata": {},
   "outputs": [
    {
     "name": "stdout",
     "output_type": "stream",
     "text": [
      "\n",
      "image 1/1 /home/mees/Desktop/UVA/Scriptie/License-Plate-Recognition-Thesis/ALPR/../../test_images/platesmania/21-BRB-3.jpg: 480x640 664.2ms\n",
      "Speed: 8.5ms preprocess, 664.2ms inference, 12.3ms postprocess per image at shape (1, 3, 480, 640)\n",
      "1025 1\n",
      "\n",
      "image 1/1 /home/mees/Desktop/UVA/Scriptie/License-Plate-Recognition-Thesis/ALPR/../../test_images/platesmania/S-030-KL.jpg: 480x640 1148.8ms\n",
      "Speed: 9.1ms preprocess, 1148.8ms inference, 4.8ms postprocess per image at shape (1, 3, 480, 640)\n",
      "1026 2\n",
      "\n",
      "image 1/1 /home/mees/Desktop/UVA/Scriptie/License-Plate-Recognition-Thesis/ALPR/../../test_images/platesmania/BX-XS-93.jpg: 480x640 723.0ms\n",
      "Speed: 7.0ms preprocess, 723.0ms inference, 7.7ms postprocess per image at shape (1, 3, 480, 640)\n",
      "1027 2\n",
      "\n",
      "image 1/1 /home/mees/Desktop/UVA/Scriptie/License-Plate-Recognition-Thesis/ALPR/../../test_images/platesmania/T-215-GJ.jpg: 480x640 627.8ms\n",
      "Speed: 4.1ms preprocess, 627.8ms inference, 2.3ms postprocess per image at shape (1, 3, 480, 640)\n",
      "1028 3\n",
      "\n",
      "image 1/1 /home/mees/Desktop/UVA/Scriptie/License-Plate-Recognition-Thesis/ALPR/../../test_images/platesmania/74-ZJ-LG.jpg: 480x640 1300.2ms\n",
      "Speed: 6.8ms preprocess, 1300.2ms inference, 2.6ms postprocess per image at shape (1, 3, 480, 640)\n",
      "1029 3\n",
      "\n",
      "image 1/1 /home/mees/Desktop/UVA/Scriptie/License-Plate-Recognition-Thesis/ALPR/../../test_images/platesmania/GF-XP-11.jpg: 480x640 475.9ms\n",
      "Speed: 5.1ms preprocess, 475.9ms inference, 2.1ms postprocess per image at shape (1, 3, 480, 640)\n",
      "1030 4\n",
      "\n",
      "image 1/1 /home/mees/Desktop/UVA/Scriptie/License-Plate-Recognition-Thesis/ALPR/../../test_images/platesmania/PN-DZ-94.jpg: 480x640 791.2ms\n",
      "Speed: 5.1ms preprocess, 791.2ms inference, 5.0ms postprocess per image at shape (1, 3, 480, 640)\n",
      "1031 5\n",
      "\n",
      "image 1/1 /home/mees/Desktop/UVA/Scriptie/License-Plate-Recognition-Thesis/ALPR/../../test_images/platesmania/TL-39-TG.jpg: 480x640 (no detections), 812.9ms\n",
      "Speed: 12.3ms preprocess, 812.9ms inference, 2.8ms postprocess per image at shape (1, 3, 480, 640)\n",
      "\n",
      "image 1/1 /home/mees/Desktop/UVA/Scriptie/License-Plate-Recognition-Thesis/ALPR/../../test_images/platesmania/KR-55-NS.jpg: 480x640 1551.1ms\n",
      "Speed: 10.2ms preprocess, 1551.1ms inference, 16.5ms postprocess per image at shape (1, 3, 480, 640)\n"
     ]
    }
   ],
   "source": [
    "correct = 0\n",
    "for i in range(1025, len(os.listdir(dir))):\n",
    "    img_path = os.path.join(dir, os.listdir(dir)[i])\n",
    "    good = False\n",
    "    try:\n",
    "        predicted_plate = alpr(img_path)\n",
    "        img = Image.open(img_path)\n",
    "        if predicted_plate == None:\n",
    "            with open(\"output.txt\", \"a\") as f:\n",
    "                f.write(f\"{img_path}\\n\")\n",
    "            continue\n",
    "        plate = os.listdir(dir)[i].split(\".\")[0]\n",
    "        if predicted_plate == plate:\n",
    "            correct += 1\n",
    "            good = True\n",
    "        else:\n",
    "            img.save(f\"../../test_images/incorrect/{plate}_{predicted_plate}.jpg\")\n",
    "\n",
    "        # save the results to a file\n",
    "        with open(\"out.txt\", \"a\") as f:\n",
    "            f.write(f\"{plate}, {predicted_plate}, {img.size}, {good}\\n\")\n",
    "\n",
    "        img.close()\n",
    "    except:\n",
    "        continue\n",
    "    print(i, correct)\n",
    "\n",
    "print(correct)\n",
    "\n"
   ]
  },
  {
   "cell_type": "code",
   "execution_count": 11,
   "metadata": {},
   "outputs": [
    {
     "name": "stdout",
     "output_type": "stream",
     "text": [
      "0.7134831460674157\n"
     ]
    }
   ],
   "source": [
    "with open('out.txt', 'r') as f:\n",
    "    lines = f.readlines()\n",
    "    lines = [line.split(\", \") for line in lines]\n",
    "\n",
    "correct = 0\n",
    "for line in lines:\n",
    "    if line[4] == \"True\\n\":\n",
    "        correct += 1\n",
    "\n",
    "print(correct/len(lines))"
   ]
  },
  {
   "cell_type": "code",
   "execution_count": 13,
   "metadata": {},
   "outputs": [
    {
     "name": "stdout",
     "output_type": "stream",
     "text": [
      "0.8301439606741573\n"
     ]
    }
   ],
   "source": [
    "correct_chars = 0\n",
    "total_chars = 0\n",
    "for line in lines:\n",
    "    correct_plate = line[0]\n",
    "    predicted_plate = line[1]\n",
    "    # character level accuracy\n",
    "    for i in range(len(correct_plate)):\n",
    "        total_chars += 1\n",
    "        if correct_plate[i] == predicted_plate[i]:\n",
    "            correct_chars += 1\n",
    "\n",
    "print(correct_chars/total_chars)\n",
    "\n"
   ]
  },
  {
   "cell_type": "code",
   "execution_count": 14,
   "metadata": {},
   "outputs": [
    {
     "name": "stdout",
     "output_type": "stream",
     "text": [
      "2\n",
      "0\n",
      "3\n",
      "1\n",
      "7\n"
     ]
    }
   ],
   "source": [
    "def count_overlapping_chars(str1, str2):\n",
    "    if len(str1) != len(str2):\n",
    "        raise ValueError(\"Both strings must have the same length\")\n",
    "\n",
    "    count = 0\n",
    "    for char1, char2 in zip(str1, str2):\n",
    "        if char1 == char2:\n",
    "            count += 1\n",
    "\n",
    "    return count\n",
    "\n",
    "database = [\n",
    "    '12-BZ-43',\n",
    "    'BZ-VZ-07',\n",
    "    '420-BT-6',\n",
    "    '69-BRH-5',\n",
    "    '123-XX-5',\n",
    "]\n",
    "\n",
    "real = '123-XX-4'\n",
    "\n",
    "for plate in database:\n",
    "    print(count_overlapping_chars(real, plate))\n",
    "    "
   ]
  }
 ],
 "metadata": {
  "kernelspec": {
   "display_name": "Python 3",
   "language": "python",
   "name": "python3"
  },
  "language_info": {
   "codemirror_mode": {
    "name": "ipython",
    "version": 3
   },
   "file_extension": ".py",
   "mimetype": "text/x-python",
   "name": "python",
   "nbconvert_exporter": "python",
   "pygments_lexer": "ipython3",
   "version": "3.11.5"
  }
 },
 "nbformat": 4,
 "nbformat_minor": 2
}
